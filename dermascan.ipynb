{
 "cells": [
  {
   "cell_type": "code",
   "execution_count": null,
   "metadata": {},
   "outputs": [],
   "source": [
    "!pip install fastapi uvicorn\n",
    "!pip install pydantic"
   ]
  },
  {
   "cell_type": "code",
   "execution_count": null,
   "metadata": {},
   "outputs": [],
   "source": [
    "from fastapi import FastAPI\n",
    "from pydantic import BaseModel\n",
    "import requests\n",
    "from PIL import Image\n",
    "import io\n",
    "import numpy as np"
   ]
  },
  {
   "cell_type": "code",
   "execution_count": null,
   "metadata": {},
   "outputs": [],
   "source": [
    "app = FastAPI()"
   ]
  },
  {
   "cell_type": "code",
   "execution_count": null,
   "metadata": {},
   "outputs": [],
   "source": [
    "class InputData(BaseModel):\n",
    "    image_url: str\n",
    "    number: int\n",
    "    text: str"
   ]
  },
  {
   "cell_type": "code",
   "execution_count": null,
   "metadata": {},
   "outputs": [],
   "source": [
    "def process_data(image: Image.Image, number: int, text: str):\n",
    "    img_array = np.array(image.resize((28, 28)).convert('L')) / 255.0\n",
    "\n",
    "    score = np.mean(img_array) + number * 0.1 + len(text) * 0.05\n",
    "\n",
    "    label = \"Aprobado\" if score > 1 else \"Rechazado\"\n",
    "\n",
    "    return {\"score\": round(score, 2), \"label\": label}\n"
   ]
  },
  {
   "cell_type": "code",
   "execution_count": null,
   "metadata": {},
   "outputs": [],
   "source": [
    "@app.post(\"/predict\")\n",
    "async def predict(data: InputData):\n",
    "    response = requests.get(data.image_url)\n",
    "\n",
    "    image = Image.open(io.BytesIO(response.content))\n",
    "\n",
    "    result = process_data(image, data.number, data.text)\n",
    "\n",
    "    return result\n"
   ]
  }
 ],
 "metadata": {
  "language_info": {
   "name": "plaintext"
  },
  "orig_nbformat": 4
 },
 "nbformat": 4,
 "nbformat_minor": 2
}
